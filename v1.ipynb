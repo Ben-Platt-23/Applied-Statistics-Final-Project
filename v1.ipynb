{
 "cells": [
  {
   "cell_type": "code",
   "execution_count": 1,
   "metadata": {},
   "outputs": [],
   "source": [
    "import pandas as pd"
   ]
  },
  {
   "cell_type": "code",
   "execution_count": 3,
   "metadata": {},
   "outputs": [],
   "source": [
    "player_data = pd.read_csv('FanGraphs Leaderboard (6).csv')"
   ]
  },
  {
   "cell_type": "code",
   "execution_count": 4,
   "metadata": {},
   "outputs": [],
   "source": [
    "player_data = player_data.drop(columns=['Name', 'Team', 'PA', 'BB%', 'K%', 'BB/K', 'AVG', 'OBP', 'SLG',\n",
    "       'ISO', 'Spd', 'BABIP', 'UBR', 'wGDP', 'wSB', 'wRC', 'wRAA', 'wOBA',\n",
    "       'wRC+', 'playerid'])"
   ]
  },
  {
   "cell_type": "code",
   "execution_count": 5,
   "metadata": {},
   "outputs": [
    {
     "data": {
      "text/plain": [
       "pandas.core.frame.DataFrame"
      ]
     },
     "execution_count": 5,
     "metadata": {},
     "output_type": "execute_result"
    }
   ],
   "source": [
    "player_data.columns\n",
    "type(player_data)"
   ]
  },
  {
   "cell_type": "code",
   "execution_count": 6,
   "metadata": {},
   "outputs": [
    {
     "data": {
      "text/plain": [
       "OPS    132\n",
       "dtype: int64"
      ]
     },
     "execution_count": 6,
     "metadata": {},
     "output_type": "execute_result"
    }
   ],
   "source": [
    "player_data.count()"
   ]
  },
  {
   "cell_type": "code",
   "execution_count": 7,
   "metadata": {},
   "outputs": [],
   "source": [
    "random_sample_1 = player_data.OPS.sample(n=5, random_state=1)\n",
    "random_sample_2 = player_data.OPS.sample(n=5, random_state=1)\n",
    "random_sample_3 = player_data.OPS.sample(n=5, random_state=1)\n",
    "random_sample_4 = player_data.OPS.sample(n=5, random_state=1)\n",
    "random_sample_5 = player_data.OPS.sample(n=5, random_state=1)\n",
    "random_sample_6 = player_data.OPS.sample(n=5, random_state=1)\n",
    "random_sample_7 = player_data.OPS.sample(n=5, random_state=1)\n",
    "random_sample_8 = player_data.OPS.sample(n=5, random_state=1)\n",
    "random_sample_9 = player_data.OPS.sample(n=5, random_state=1)\n",
    "random_sample_10 = player_data.OPS.sample(n=5, random_state=1)\n",
    "random_sample_11 = player_data.OPS.sample(n=5, random_state=1)\n",
    "random_sample_12 = player_data.OPS.sample(n=5, random_state=1)\n",
    "random_sample_13 = player_data.OPS.sample(n=5, random_state=1)\n",
    "random_sample_14 = player_data.OPS.sample(n=5, random_state=1)\n",
    "random_sample_15 = player_data.OPS.sample(n=5, random_state=1)\n",
    "random_sample_16 = player_data.OPS.sample(n=5, random_state=1)\n",
    "random_sample_17 = player_data.OPS.sample(n=5, random_state=1)\n",
    "random_sample_18 = player_data.OPS.sample(n=5, random_state=1)\n",
    "random_sample_19 = player_data.OPS.sample(n=5, random_state=1)\n",
    "random_sample_20 = player_data.OPS.sample(n=5, random_state=1)"
   ]
  },
  {
   "cell_type": "code",
   "execution_count": 8,
   "metadata": {},
   "outputs": [
    {
     "name": "stdout",
     "output_type": "stream",
     "text": [
      "75    0.786\n",
      "35    0.859\n",
      "51    0.799\n",
      "5     0.938\n",
      "36    0.832\n",
      "Name: OPS, dtype: float64\n"
     ]
    }
   ],
   "source": [
    "type(random_sample_1)\n",
    "print(random_sample_1)"
   ]
  },
  {
   "cell_type": "code",
   "execution_count": 9,
   "metadata": {},
   "outputs": [],
   "source": [
    "rs1m = random_sample_1.mean()\n",
    "rs2m = random_sample_2.mean()\n",
    "rs3m = random_sample_3.mean()\n",
    "rs4m = random_sample_4.mean()\n",
    "rs5m = random_sample_5.mean()\n",
    "rs6m = random_sample_6.mean()\n",
    "rs7m = random_sample_7.mean()\n",
    "rs8m = random_sample_8.mean()\n",
    "rs9m = random_sample_9.mean()\n",
    "rs10m = random_sample_10.mean()\n",
    "rs11m = random_sample_11.mean()\n",
    "rs12m = random_sample_12.mean()\n",
    "rs13m = random_sample_13.mean()\n",
    "rs14m = random_sample_14.mean()\n",
    "rs15m = random_sample_15.mean()\n",
    "rs16m = random_sample_16.mean()\n",
    "rs17m = random_sample_17.mean()\n",
    "rs18m = random_sample_18.mean()\n",
    "rs19m = random_sample_19.mean()\n",
    "rs20m = random_sample_20.mean()"
   ]
  },
  {
   "cell_type": "code",
   "execution_count": 10,
   "metadata": {},
   "outputs": [],
   "source": [
    "cumulative_OPS_mean = rs1m + rs2m + rs3m + rs4m + rs5m + rs6m + rs7m + rs8m + rs9m + rs10m + rs11m + rs12m + rs13m + rs14m + rs15m + rs16m + rs17m + rs18m + rs19m + rs20m "
   ]
  },
  {
   "cell_type": "code",
   "execution_count": 11,
   "metadata": {},
   "outputs": [],
   "source": [
    "cumulative_OPS_mean = cumulative_OPS_mean / 20"
   ]
  },
  {
   "cell_type": "code",
   "execution_count": 12,
   "metadata": {},
   "outputs": [
    {
     "data": {
      "text/plain": [
       "0.8428000000000001"
      ]
     },
     "execution_count": 12,
     "metadata": {},
     "output_type": "execute_result"
    }
   ],
   "source": [
    "cumulative_OPS_mean"
   ]
  },
  {
   "cell_type": "code",
   "execution_count": null,
   "metadata": {},
   "outputs": [],
   "source": []
  }
 ],
 "metadata": {
  "interpreter": {
   "hash": "b0fa6594d8f4cbf19f97940f81e996739fb7646882a419484c72d19e05852a7e"
  },
  "kernelspec": {
   "display_name": "Python 3.9.7 64-bit",
   "language": "python",
   "name": "python3"
  },
  "language_info": {
   "codemirror_mode": {
    "name": "ipython",
    "version": 3
   },
   "file_extension": ".py",
   "mimetype": "text/x-python",
   "name": "python",
   "nbconvert_exporter": "python",
   "pygments_lexer": "ipython3",
   "version": "3.9.10"
  },
  "orig_nbformat": 4
 },
 "nbformat": 4,
 "nbformat_minor": 2
}
