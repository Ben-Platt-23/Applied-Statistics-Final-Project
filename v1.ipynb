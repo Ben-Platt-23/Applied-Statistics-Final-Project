{
 "cells": [
  {
   "cell_type": "code",
   "execution_count": 3,
   "metadata": {},
   "outputs": [],
   "source": [
    "import pandas as pd\n",
    "import matplotlib.pyplot as plt"
   ]
  },
  {
   "cell_type": "code",
   "execution_count": 4,
   "metadata": {},
   "outputs": [],
   "source": [
    "player_data = pd.read_csv('FanGraphs Leaderboard (6).csv')"
   ]
  },
  {
   "cell_type": "code",
   "execution_count": 5,
   "metadata": {},
   "outputs": [
    {
     "data": {
      "text/html": [
       "<div>\n",
       "<style scoped>\n",
       "    .dataframe tbody tr th:only-of-type {\n",
       "        vertical-align: middle;\n",
       "    }\n",
       "\n",
       "    .dataframe tbody tr th {\n",
       "        vertical-align: top;\n",
       "    }\n",
       "\n",
       "    .dataframe thead th {\n",
       "        text-align: right;\n",
       "    }\n",
       "</style>\n",
       "<table border=\"1\" class=\"dataframe\">\n",
       "  <thead>\n",
       "    <tr style=\"text-align: right;\">\n",
       "      <th></th>\n",
       "      <th>Name</th>\n",
       "      <th>Team</th>\n",
       "      <th>PA</th>\n",
       "      <th>BB%</th>\n",
       "      <th>K%</th>\n",
       "      <th>BB/K</th>\n",
       "      <th>AVG</th>\n",
       "      <th>OBP</th>\n",
       "      <th>SLG</th>\n",
       "      <th>OPS</th>\n",
       "      <th>...</th>\n",
       "      <th>Spd</th>\n",
       "      <th>BABIP</th>\n",
       "      <th>UBR</th>\n",
       "      <th>wGDP</th>\n",
       "      <th>wSB</th>\n",
       "      <th>wRC</th>\n",
       "      <th>wRAA</th>\n",
       "      <th>wOBA</th>\n",
       "      <th>wRC+</th>\n",
       "      <th>playerid</th>\n",
       "    </tr>\n",
       "  </thead>\n",
       "  <tbody>\n",
       "    <tr>\n",
       "      <th>0</th>\n",
       "      <td>Bryce Harper</td>\n",
       "      <td>PHI</td>\n",
       "      <td>599</td>\n",
       "      <td>16.7%</td>\n",
       "      <td>22.4%</td>\n",
       "      <td>0.75</td>\n",
       "      <td>0.309</td>\n",
       "      <td>0.429</td>\n",
       "      <td>0.615</td>\n",
       "      <td>1.044</td>\n",
       "      <td>...</td>\n",
       "      <td>4.3</td>\n",
       "      <td>0.359</td>\n",
       "      <td>-2.5</td>\n",
       "      <td>-0.8</td>\n",
       "      <td>0.8</td>\n",
       "      <td>130</td>\n",
       "      <td>57.7</td>\n",
       "      <td>0.431</td>\n",
       "      <td>170</td>\n",
       "      <td>11579</td>\n",
       "    </tr>\n",
       "    <tr>\n",
       "      <th>1</th>\n",
       "      <td>Juan Soto</td>\n",
       "      <td>WSN</td>\n",
       "      <td>654</td>\n",
       "      <td>22.2%</td>\n",
       "      <td>14.2%</td>\n",
       "      <td>1.56</td>\n",
       "      <td>0.313</td>\n",
       "      <td>0.465</td>\n",
       "      <td>0.534</td>\n",
       "      <td>0.999</td>\n",
       "      <td>...</td>\n",
       "      <td>3.5</td>\n",
       "      <td>0.332</td>\n",
       "      <td>0.5</td>\n",
       "      <td>-1.9</td>\n",
       "      <td>-1.9</td>\n",
       "      <td>136</td>\n",
       "      <td>57.3</td>\n",
       "      <td>0.420</td>\n",
       "      <td>163</td>\n",
       "      <td>20123</td>\n",
       "    </tr>\n",
       "    <tr>\n",
       "      <th>2</th>\n",
       "      <td>Vladimir Guerrero Jr.</td>\n",
       "      <td>TOR</td>\n",
       "      <td>698</td>\n",
       "      <td>12.3%</td>\n",
       "      <td>15.8%</td>\n",
       "      <td>0.78</td>\n",
       "      <td>0.311</td>\n",
       "      <td>0.401</td>\n",
       "      <td>0.601</td>\n",
       "      <td>1.002</td>\n",
       "      <td>...</td>\n",
       "      <td>3.1</td>\n",
       "      <td>0.313</td>\n",
       "      <td>-0.1</td>\n",
       "      <td>-1.7</td>\n",
       "      <td>-0.3</td>\n",
       "      <td>145</td>\n",
       "      <td>60.4</td>\n",
       "      <td>0.419</td>\n",
       "      <td>166</td>\n",
       "      <td>19611</td>\n",
       "    </tr>\n",
       "    <tr>\n",
       "      <th>3</th>\n",
       "      <td>Fernando Tatis Jr.</td>\n",
       "      <td>SDP</td>\n",
       "      <td>546</td>\n",
       "      <td>11.4%</td>\n",
       "      <td>28.0%</td>\n",
       "      <td>0.41</td>\n",
       "      <td>0.282</td>\n",
       "      <td>0.364</td>\n",
       "      <td>0.611</td>\n",
       "      <td>0.975</td>\n",
       "      <td>...</td>\n",
       "      <td>5.3</td>\n",
       "      <td>0.324</td>\n",
       "      <td>5.1</td>\n",
       "      <td>1.3</td>\n",
       "      <td>2.9</td>\n",
       "      <td>106</td>\n",
       "      <td>39.9</td>\n",
       "      <td>0.403</td>\n",
       "      <td>156</td>\n",
       "      <td>19709</td>\n",
       "    </tr>\n",
       "    <tr>\n",
       "      <th>4</th>\n",
       "      <td>Shohei Ohtani</td>\n",
       "      <td>LAA</td>\n",
       "      <td>639</td>\n",
       "      <td>15.0%</td>\n",
       "      <td>29.6%</td>\n",
       "      <td>0.51</td>\n",
       "      <td>0.257</td>\n",
       "      <td>0.372</td>\n",
       "      <td>0.592</td>\n",
       "      <td>0.965</td>\n",
       "      <td>...</td>\n",
       "      <td>6.9</td>\n",
       "      <td>0.303</td>\n",
       "      <td>0.4</td>\n",
       "      <td>1.6</td>\n",
       "      <td>0.5</td>\n",
       "      <td>119</td>\n",
       "      <td>41.8</td>\n",
       "      <td>0.393</td>\n",
       "      <td>152</td>\n",
       "      <td>19755</td>\n",
       "    </tr>\n",
       "  </tbody>\n",
       "</table>\n",
       "<p>5 rows × 21 columns</p>\n",
       "</div>"
      ],
      "text/plain": [
       "                    Name Team   PA    BB%     K%  BB/K    AVG    OBP    SLG  \\\n",
       "0           Bryce Harper  PHI  599  16.7%  22.4%  0.75  0.309  0.429  0.615   \n",
       "1              Juan Soto  WSN  654  22.2%  14.2%  1.56  0.313  0.465  0.534   \n",
       "2  Vladimir Guerrero Jr.  TOR  698  12.3%  15.8%  0.78  0.311  0.401  0.601   \n",
       "3     Fernando Tatis Jr.  SDP  546  11.4%  28.0%  0.41  0.282  0.364  0.611   \n",
       "4          Shohei Ohtani  LAA  639  15.0%  29.6%  0.51  0.257  0.372  0.592   \n",
       "\n",
       "     OPS  ...  Spd  BABIP  UBR  wGDP  wSB  wRC  wRAA   wOBA  wRC+  playerid  \n",
       "0  1.044  ...  4.3  0.359 -2.5  -0.8  0.8  130  57.7  0.431   170     11579  \n",
       "1  0.999  ...  3.5  0.332  0.5  -1.9 -1.9  136  57.3  0.420   163     20123  \n",
       "2  1.002  ...  3.1  0.313 -0.1  -1.7 -0.3  145  60.4  0.419   166     19611  \n",
       "3  0.975  ...  5.3  0.324  5.1   1.3  2.9  106  39.9  0.403   156     19709  \n",
       "4  0.965  ...  6.9  0.303  0.4   1.6  0.5  119  41.8  0.393   152     19755  \n",
       "\n",
       "[5 rows x 21 columns]"
      ]
     },
     "execution_count": 5,
     "metadata": {},
     "output_type": "execute_result"
    }
   ],
   "source": [
    "player_data.head(5)"
   ]
  },
  {
   "cell_type": "code",
   "execution_count": 9,
   "metadata": {},
   "outputs": [],
   "source": [
    "player_data = player_data.drop(columns=['Name', 'Team', 'PA', 'BB%', 'K%', 'BB/K', 'AVG', 'OBP', 'SLG',\n",
    "       'ISO', 'Spd', 'BABIP', 'UBR', 'wGDP', 'wSB', 'wRC', 'wRAA', 'wOBA',\n",
    "       'wRC+', 'playerid'])"
   ]
  },
  {
   "cell_type": "code",
   "execution_count": 10,
   "metadata": {},
   "outputs": [
    {
     "data": {
      "text/plain": [
       "pandas.core.frame.DataFrame"
      ]
     },
     "execution_count": 10,
     "metadata": {},
     "output_type": "execute_result"
    }
   ],
   "source": [
    "player_data.columns\n",
    "type(player_data)"
   ]
  },
  {
   "cell_type": "code",
   "execution_count": 11,
   "metadata": {},
   "outputs": [
    {
     "data": {
      "text/plain": [
       "OPS    132\n",
       "dtype: int64"
      ]
     },
     "execution_count": 11,
     "metadata": {},
     "output_type": "execute_result"
    }
   ],
   "source": [
    "player_data.count()"
   ]
  },
  {
   "cell_type": "code",
   "execution_count": 17,
   "metadata": {},
   "outputs": [],
   "source": [
    "random_sample_1 = player_data.OPS.sample(n=5)\n",
    "random_sample_2 = player_data.OPS.sample(n=5)\n",
    "random_sample_3 = player_data.OPS.sample(n=5)\n",
    "random_sample_4 = player_data.OPS.sample(n=5)\n",
    "random_sample_5 = player_data.OPS.sample(n=5)\n",
    "random_sample_6 = player_data.OPS.sample(n=5)\n",
    "random_sample_7 = player_data.OPS.sample(n=5)\n",
    "random_sample_8 = player_data.OPS.sample(n=5)\n",
    "random_sample_9 = player_data.OPS.sample(n=5)\n",
    "random_sample_10 = player_data.OPS.sample(n=5)\n",
    "random_sample_11 = player_data.OPS.sample(n=5)\n",
    "random_sample_12 = player_data.OPS.sample(n=5)\n",
    "random_sample_13 = player_data.OPS.sample(n=5)\n",
    "random_sample_14 = player_data.OPS.sample(n=5)\n",
    "random_sample_15 = player_data.OPS.sample(n=5)\n",
    "random_sample_16 = player_data.OPS.sample(n=5)\n",
    "random_sample_17 = player_data.OPS.sample(n=5)\n",
    "random_sample_18 = player_data.OPS.sample(n=5)\n",
    "random_sample_19 = player_data.OPS.sample(n=5)\n",
    "random_sample_20 = player_data.OPS.sample(n=5)"
   ]
  },
  {
   "cell_type": "code",
   "execution_count": 18,
   "metadata": {},
   "outputs": [],
   "source": [
    "rs1m = random_sample_1.mean()\n",
    "rs2m = random_sample_2.mean()\n",
    "rs3m = random_sample_3.mean()\n",
    "rs4m = random_sample_4.mean()\n",
    "rs5m = random_sample_5.mean()\n",
    "rs6m = random_sample_6.mean()\n",
    "rs7m = random_sample_7.mean()\n",
    "rs8m = random_sample_8.mean()\n",
    "rs9m = random_sample_9.mean()\n",
    "rs10m = random_sample_10.mean()\n",
    "rs11m = random_sample_11.mean()\n",
    "rs12m = random_sample_12.mean()\n",
    "rs13m = random_sample_13.mean()\n",
    "rs14m = random_sample_14.mean()\n",
    "rs15m = random_sample_15.mean()\n",
    "rs16m = random_sample_16.mean()\n",
    "rs17m = random_sample_17.mean()\n",
    "rs18m = random_sample_18.mean()\n",
    "rs19m = random_sample_19.mean()\n",
    "rs20m = random_sample_20.mean()"
   ]
  },
  {
   "cell_type": "code",
   "execution_count": 20,
   "metadata": {},
   "outputs": [],
   "source": [
    "cumulative_OPS_mean = rs1m + rs2m + rs3m + rs4m + rs5m + rs6m + rs7m + rs8m + rs9m + rs10m + rs11m + rs12m + rs13m + rs14m + rs15m + rs16m + rs17m + rs18m + rs19m + rs20m "
   ]
  },
  {
   "cell_type": "code",
   "execution_count": 21,
   "metadata": {},
   "outputs": [],
   "source": [
    "cumulative_OPS_mean = cumulative_OPS_mean / 20"
   ]
  },
  {
   "cell_type": "code",
   "execution_count": 22,
   "metadata": {},
   "outputs": [
    {
     "data": {
      "text/plain": [
       "0.7976899999999999"
      ]
     },
     "execution_count": 22,
     "metadata": {},
     "output_type": "execute_result"
    }
   ],
   "source": [
    "cumulative_OPS_mean"
   ]
  },
  {
   "cell_type": "code",
   "execution_count": 19,
   "metadata": {},
   "outputs": [
    {
     "name": "stdout",
     "output_type": "stream",
     "text": [
      "[0.8166, 0.8642000000000001, 0.8272, 0.8061999999999999, 0.8453999999999999, 0.7769999999999999, 0.8472, 0.7674, 0.8029999999999999, 0.7934, 0.8718, 0.8198000000000001, 0.8037999999999998, 0.716, 0.8182, 0.7534000000000001, 0.7375999999999999, 0.7686, 0.7494, 0.7676000000000001]\n"
     ]
    }
   ],
   "source": [
    "x = [rs1m, rs2m, rs3m, rs4m, rs5m, rs6m, rs7m, rs8m, rs9m, rs10m, rs11m, rs12m, rs13m, rs14m, rs15m, rs16m, rs17m, rs18m, rs19m, rs20m]\n",
    "print(x)"
   ]
  },
  {
   "cell_type": "code",
   "execution_count": 52,
   "metadata": {},
   "outputs": [],
   "source": [
    "x2 = [0.8166, 0.8642000000000001, 0.8272, 0.8061999999999999, 0.8453999999999999, 0.7769999999999999, 0.8472, 0.7674, 0.8029999999999999, 0.7934, 0.8718, 0.8198000000000001, 0.8037999999999998, 0.716, 0.8182, 0.7534000000000001, 0.7375999999999999, 0.7686, 0.7494, 0.7676000000000001]"
   ]
  },
  {
   "cell_type": "code",
   "execution_count": 53,
   "metadata": {},
   "outputs": [],
   "source": [
    "xd2 = pd.DataFrame(x2)"
   ]
  },
  {
   "cell_type": "code",
   "execution_count": 57,
   "metadata": {},
   "outputs": [
    {
     "data": {
      "text/plain": [
       "0    0.8489\n",
       "Name: 0.9, dtype: float64"
      ]
     },
     "execution_count": 57,
     "metadata": {},
     "output_type": "execute_result"
    }
   ],
   "source": [
    "q1 = xd2.quantile(.25)\n",
    "q3 = xd2.quantile(.75)\n",
    "q90 = xd2.quantile(.9)\n",
    "\n",
    "q90"
   ]
  },
  {
   "cell_type": "code",
   "execution_count": 35,
   "metadata": {},
   "outputs": [],
   "source": [
    "xd = pd.DataFrame(x)"
   ]
  },
  {
   "cell_type": "code",
   "execution_count": 44,
   "metadata": {},
   "outputs": [
    {
     "data": {
      "text/plain": [
       "0    0.76755\n",
       "Name: 0.25, dtype: float64"
      ]
     },
     "execution_count": 44,
     "metadata": {},
     "output_type": "execute_result"
    }
   ],
   "source": [
    "quartiles25 = xd.quantile(.25)\n",
    "quartiles25"
   ]
  },
  {
   "cell_type": "code",
   "execution_count": 46,
   "metadata": {},
   "outputs": [
    {
     "data": {
      "text/plain": [
       "0    0.8034\n",
       "Name: 0.5, dtype: float64"
      ]
     },
     "execution_count": 46,
     "metadata": {},
     "output_type": "execute_result"
    }
   ],
   "source": [
    "quartiles50 = xd.quantile(.5)\n",
    "quartiles50 "
   ]
  },
  {
   "cell_type": "code",
   "execution_count": 48,
   "metadata": {},
   "outputs": [
    {
     "data": {
      "text/plain": [
       "0    0.82165\n",
       "Name: 0.75, dtype: float64"
      ]
     },
     "execution_count": 48,
     "metadata": {},
     "output_type": "execute_result"
    }
   ],
   "source": [
    "quartiles75 = xd.quantile(.75)\n",
    "quartiles75"
   ]
  },
  {
   "cell_type": "code",
   "execution_count": 51,
   "metadata": {},
   "outputs": [
    {
     "data": {
      "text/plain": [
       "0    0.8489\n",
       "Name: 0.9, dtype: float64"
      ]
     },
     "execution_count": 51,
     "metadata": {},
     "output_type": "execute_result"
    }
   ],
   "source": [
    "quartiles90 = xd.quantile(.9)\n",
    "quartiles90"
   ]
  },
  {
   "cell_type": "code",
   "execution_count": 49,
   "metadata": {},
   "outputs": [
    {
     "data": {
      "text/plain": [
       "0    0.0541\n",
       "dtype: float64"
      ]
     },
     "execution_count": 49,
     "metadata": {},
     "output_type": "execute_result"
    }
   ],
   "source": [
    "quartiles75 - quartiles25"
   ]
  },
  {
   "cell_type": "code",
   "execution_count": 32,
   "metadata": {},
   "outputs": [
    {
     "data": {
      "image/png": "[encoded data removed]",
      "text/plain": [
       "<Figure size 432x288 with 1 Axes>"
      ]
     },
     "metadata": {
      "needs_background": "light"
     },
     "output_type": "display_data"
    }
   ],
   "source": [
    "# Histogram \n",
    "x = x\n",
    "bins = 10\n",
    "\n",
    "plt.hist(x, bins, alpha=.9)\n",
    "plt.title('Histogram of the mean OPS from 20 samples from the 2021 season.')\n",
    "plt.xlabel('Mean OPS (OBP + SLG) from 20 samples')\n",
    "plt.ylabel('Frequency of each OPS mean in the samples')\n",
    "plt.show()"
   ]
  },
  {
   "cell_type": "code",
   "execution_count": 26,
   "metadata": {},
   "outputs": [
    {
     "data": {
      "image/png": "[encoded data removed]",
      "text/plain": [
       "<Figure size 432x288 with 1 Axes>"
      ]
     },
     "metadata": {
      "needs_background": "light"
     },
     "output_type": "display_data"
    }
   ],
   "source": [
    "# Regular point plot\n",
    "\n",
    "ypoints = x\n",
    "\n",
    "plt.plot(ypoints)\n",
    "plt.show()"
   ]
  }
 ],
 "metadata": {
  "interpreter": {
   "hash": "b0fa6594d8f4cbf19f97940f81e996739fb7646882a419484c72d19e05852a7e"
  },
  "kernelspec": {
   "display_name": "Python 3.9.7 64-bit",
   "language": "python",
   "name": "python3"
  },
  "language_info": {
   "codemirror_mode": {
    "name": "ipython",
    "version": 3
   },
   "file_extension": ".py",
   "mimetype": "text/x-python",
   "name": "python",
   "nbconvert_exporter": "python",
   "pygments_lexer": "ipython3",
   "version": "3.9.10"
  },
  "orig_nbformat": 4
 },
 "nbformat": 4,
 "nbformat_minor": 2
}
